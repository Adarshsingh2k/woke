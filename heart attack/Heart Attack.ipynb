{
 "cells": [
  {
   "cell_type": "code",
   "execution_count": 1,
   "metadata": {},
   "outputs": [
    {
     "data": {
      "text/plain": [
       "age         0\n",
       "sex         0\n",
       "cp          0\n",
       "trestbps    0\n",
       "chol        0\n",
       "fbs         0\n",
       "restecg     0\n",
       "thalach     0\n",
       "exang       0\n",
       "oldpeak     0\n",
       "slope       0\n",
       "ca          0\n",
       "thal        0\n",
       "target      0\n",
       "dtype: int64"
      ]
     },
     "execution_count": 1,
     "metadata": {},
     "output_type": "execute_result"
    }
   ],
   "source": [
    "import pandas as pd\n",
    "import numpy as np\n",
    "\n",
    "raw_data=pd.read_csv('data.csv')\n",
    "raw_data.isnull().sum()"
   ]
  },
  {
   "cell_type": "code",
   "execution_count": 2,
   "metadata": {},
   "outputs": [],
   "source": [
    "i=list(raw_data.columns)"
   ]
  },
  {
   "cell_type": "code",
   "execution_count": 3,
   "metadata": {},
   "outputs": [
    {
     "name": "stdout",
     "output_type": "stream",
     "text": [
      "---------------------------\n",
      "age\n",
      "54    25\n",
      "48    19\n",
      "52    17\n",
      "55    15\n",
      "49    15\n",
      "46    13\n",
      "53    12\n",
      "43    12\n",
      "50    12\n",
      "39    11\n",
      "41    11\n",
      "47    10\n",
      "56    10\n",
      "51     9\n",
      "58     9\n",
      "59     8\n",
      "37     8\n",
      "45     8\n",
      "44     7\n",
      "42     7\n",
      "40     7\n",
      "38     7\n",
      "35     5\n",
      "57     5\n",
      "36     5\n",
      "32     4\n",
      "34     4\n",
      "65     3\n",
      "60     2\n",
      "33     2\n",
      "31     2\n",
      "61     2\n",
      "62     2\n",
      "29     2\n",
      "30     1\n",
      "66     1\n",
      "63     1\n",
      "28     1\n",
      "Name: age, dtype: int64\n",
      "\n",
      "---------------------------\n",
      "sex\n",
      "1    213\n",
      "0     81\n",
      "Name: sex, dtype: int64\n",
      "\n",
      "---------------------------\n",
      "cp\n",
      "4    123\n",
      "2    106\n",
      "3     54\n",
      "1     11\n",
      "Name: cp, dtype: int64\n",
      "\n",
      "---------------------------\n",
      "trestbps\n",
      "120    65\n",
      "130    54\n",
      "140    50\n",
      "150    23\n",
      "110    21\n",
      "160    20\n",
      "125     8\n",
      "100     6\n",
      "180     6\n",
      "135     5\n",
      "170     5\n",
      "145     5\n",
      "112     3\n",
      "122     2\n",
      "115     2\n",
      "118     2\n",
      "124     2\n",
      "155     1\n",
      "113     1\n",
      "106     1\n",
      "138     1\n",
      "108     1\n",
      "200     1\n",
      "?       1\n",
      "128     1\n",
      "132     1\n",
      "136     1\n",
      "98      1\n",
      "92      1\n",
      "105     1\n",
      "142     1\n",
      "190     1\n",
      "Name: trestbps, dtype: int64\n",
      "\n",
      "---------------------------\n",
      "chol\n",
      "?      23\n",
      "246     5\n",
      "230     5\n",
      "275     5\n",
      "211     4\n",
      "       ..\n",
      "338     1\n",
      "167     1\n",
      "269     1\n",
      "190     1\n",
      "603     1\n",
      "Name: chol, Length: 154, dtype: int64\n",
      "\n",
      "---------------------------\n",
      "fbs\n",
      "0    266\n",
      "1     20\n",
      "?      8\n",
      "Name: fbs, dtype: int64\n",
      "\n",
      "---------------------------\n",
      "restecg\n",
      "0    235\n",
      "1     52\n",
      "2      6\n",
      "?      1\n",
      "Name: restecg, dtype: int64\n",
      "\n",
      "---------------------------\n",
      "thalach\n",
      "150    29\n",
      "140    21\n",
      "130    17\n",
      "170    14\n",
      "160    13\n",
      "       ..\n",
      "139     1\n",
      "153     1\n",
      "119     1\n",
      "178     1\n",
      "129     1\n",
      "Name: thalach, Length: 72, dtype: int64\n",
      "\n",
      "---------------------------\n",
      "exang\n",
      "0    204\n",
      "1     89\n",
      "?      1\n",
      "Name: exang, dtype: int64\n",
      "\n",
      "---------------------------\n",
      "oldpeak\n",
      "0.0    189\n",
      "1.0     41\n",
      "2.0     31\n",
      "1.5     16\n",
      "3.0      9\n",
      "2.5      3\n",
      "0.5      2\n",
      "0.8      1\n",
      "5.0      1\n",
      "4.0      1\n",
      "Name: oldpeak, dtype: int64\n",
      "\n",
      "---------------------------\n",
      "slope\n",
      "?       190\n",
      "2.00     91\n",
      "1.00     12\n",
      "3.00      1\n",
      "Name: slope, dtype: int64\n",
      "\n",
      "---------------------------\n",
      "ca\n",
      "?       291\n",
      "0.00      3\n",
      "Name: ca, dtype: int64\n",
      "\n",
      "---------------------------\n",
      "thal\n",
      "?       266\n",
      "7.00     11\n",
      "6.00     10\n",
      "3.00      7\n",
      "Name: thal, dtype: int64\n",
      "\n",
      "---------------------------\n",
      "target\n",
      "0    188\n",
      "1    106\n",
      "Name: target, dtype: int64\n",
      "\n"
     ]
    }
   ],
   "source": [
    "for l in i:\n",
    "    print('---------------------------')\n",
    "    print(l)\n",
    "    print(raw_data[l].value_counts())\n",
    "    print('')"
   ]
  },
  {
   "cell_type": "code",
   "execution_count": 4,
   "metadata": {},
   "outputs": [],
   "source": [
    "raw_data['trestbps'].replace({'?':120,'120':120},inplace=True)\n",
    "raw_data['fbs'].replace({'?':0,'0':0},inplace=True)\n",
    "raw_data['restecg'].replace({'?':0,'0':0},inplace=True)\n",
    "raw_data['exang'].replace({'?':0,'0':0},inplace=True)\n",
    "raw_data['thalach'].replace({'?':150,'150':150},inplace=True)\n"
   ]
  },
  {
   "cell_type": "code",
   "execution_count": 5,
   "metadata": {
    "scrolled": true
   },
   "outputs": [
    {
     "data": {
      "text/html": [
       "<div>\n",
       "<style scoped>\n",
       "    .dataframe tbody tr th:only-of-type {\n",
       "        vertical-align: middle;\n",
       "    }\n",
       "\n",
       "    .dataframe tbody tr th {\n",
       "        vertical-align: top;\n",
       "    }\n",
       "\n",
       "    .dataframe thead th {\n",
       "        text-align: right;\n",
       "    }\n",
       "</style>\n",
       "<table border=\"1\" class=\"dataframe\">\n",
       "  <thead>\n",
       "    <tr style=\"text-align: right;\">\n",
       "      <th></th>\n",
       "      <th>age</th>\n",
       "      <th>sex</th>\n",
       "      <th>cp</th>\n",
       "      <th>trestbps</th>\n",
       "      <th>chol</th>\n",
       "      <th>fbs</th>\n",
       "      <th>restecg</th>\n",
       "      <th>thalach</th>\n",
       "      <th>exang</th>\n",
       "      <th>oldpeak</th>\n",
       "      <th>slope</th>\n",
       "      <th>ca</th>\n",
       "      <th>thal</th>\n",
       "      <th>target</th>\n",
       "    </tr>\n",
       "  </thead>\n",
       "  <tbody>\n",
       "    <tr>\n",
       "      <td>0</td>\n",
       "      <td>28</td>\n",
       "      <td>1</td>\n",
       "      <td>2</td>\n",
       "      <td>130</td>\n",
       "      <td>132</td>\n",
       "      <td>0</td>\n",
       "      <td>2</td>\n",
       "      <td>185</td>\n",
       "      <td>0</td>\n",
       "      <td>0.0</td>\n",
       "      <td>?</td>\n",
       "      <td>?</td>\n",
       "      <td>?</td>\n",
       "      <td>0</td>\n",
       "    </tr>\n",
       "    <tr>\n",
       "      <td>1</td>\n",
       "      <td>29</td>\n",
       "      <td>1</td>\n",
       "      <td>2</td>\n",
       "      <td>120</td>\n",
       "      <td>243</td>\n",
       "      <td>0</td>\n",
       "      <td>0</td>\n",
       "      <td>160</td>\n",
       "      <td>0</td>\n",
       "      <td>0.0</td>\n",
       "      <td>?</td>\n",
       "      <td>?</td>\n",
       "      <td>?</td>\n",
       "      <td>0</td>\n",
       "    </tr>\n",
       "    <tr>\n",
       "      <td>2</td>\n",
       "      <td>29</td>\n",
       "      <td>1</td>\n",
       "      <td>2</td>\n",
       "      <td>140</td>\n",
       "      <td>?</td>\n",
       "      <td>0</td>\n",
       "      <td>0</td>\n",
       "      <td>170</td>\n",
       "      <td>0</td>\n",
       "      <td>0.0</td>\n",
       "      <td>?</td>\n",
       "      <td>?</td>\n",
       "      <td>?</td>\n",
       "      <td>0</td>\n",
       "    </tr>\n",
       "    <tr>\n",
       "      <td>3</td>\n",
       "      <td>30</td>\n",
       "      <td>0</td>\n",
       "      <td>1</td>\n",
       "      <td>170</td>\n",
       "      <td>237</td>\n",
       "      <td>0</td>\n",
       "      <td>1</td>\n",
       "      <td>170</td>\n",
       "      <td>0</td>\n",
       "      <td>0.0</td>\n",
       "      <td>?</td>\n",
       "      <td>?</td>\n",
       "      <td>6.00</td>\n",
       "      <td>0</td>\n",
       "    </tr>\n",
       "    <tr>\n",
       "      <td>4</td>\n",
       "      <td>31</td>\n",
       "      <td>0</td>\n",
       "      <td>2</td>\n",
       "      <td>100</td>\n",
       "      <td>219</td>\n",
       "      <td>0</td>\n",
       "      <td>1</td>\n",
       "      <td>150</td>\n",
       "      <td>0</td>\n",
       "      <td>0.0</td>\n",
       "      <td>?</td>\n",
       "      <td>?</td>\n",
       "      <td>?</td>\n",
       "      <td>0</td>\n",
       "    </tr>\n",
       "  </tbody>\n",
       "</table>\n",
       "</div>"
      ],
      "text/plain": [
       "   age  sex  cp  trestbps chol  fbs  restecg  thalach  exang  oldpeak slope  \\\n",
       "0   28    1   2       130  132    0        2      185      0      0.0     ?   \n",
       "1   29    1   2       120  243    0        0      160      0      0.0     ?   \n",
       "2   29    1   2       140    ?    0        0      170      0      0.0     ?   \n",
       "3   30    0   1       170  237    0        1      170      0      0.0     ?   \n",
       "4   31    0   2       100  219    0        1      150      0      0.0     ?   \n",
       "\n",
       "  ca  thal  target  \n",
       "0  ?     ?       0  \n",
       "1  ?     ?       0  \n",
       "2  ?     ?       0  \n",
       "3  ?  6.00       0  \n",
       "4  ?     ?       0  "
      ]
     },
     "execution_count": 5,
     "metadata": {},
     "output_type": "execute_result"
    }
   ],
   "source": [
    "raw_data.head()"
   ]
  },
  {
   "cell_type": "code",
   "execution_count": 6,
   "metadata": {
    "scrolled": true
   },
   "outputs": [],
   "source": [
    "raw_data['chol'].replace({'?':130},inplace=True)"
   ]
  },
  {
   "cell_type": "code",
   "execution_count": 7,
   "metadata": {},
   "outputs": [],
   "source": [
    "raw_data['slope'].replace({'?':2,'2.00':2},inplace=True)"
   ]
  },
  {
   "cell_type": "code",
   "execution_count": 8,
   "metadata": {},
   "outputs": [],
   "source": [
    "raw_data['ca'].replace({'?':1},inplace=True)"
   ]
  },
  {
   "cell_type": "code",
   "execution_count": 9,
   "metadata": {},
   "outputs": [
    {
     "data": {
      "text/plain": [
       "0    188\n",
       "1    106\n",
       "Name: target, dtype: int64"
      ]
     },
     "execution_count": 9,
     "metadata": {},
     "output_type": "execute_result"
    }
   ],
   "source": [
    "raw_data['target'].value_counts()"
   ]
  },
  {
   "cell_type": "code",
   "execution_count": 10,
   "metadata": {},
   "outputs": [],
   "source": [
    "new_data=raw_data.drop('thal',axis=1)"
   ]
  },
  {
   "cell_type": "code",
   "execution_count": 11,
   "metadata": {},
   "outputs": [],
   "source": [
    "data=new_data.sample(frac=1).reset_index(drop=True)\n",
    "\n",
    "x=data.drop('target',axis=1)\n",
    "y=data['target'].values.reshape(-1,1)\n"
   ]
  },
  {
   "cell_type": "code",
   "execution_count": 12,
   "metadata": {},
   "outputs": [
    {
     "data": {
      "text/plain": [
       "((294, 12), (294, 1))"
      ]
     },
     "execution_count": 12,
     "metadata": {},
     "output_type": "execute_result"
    }
   ],
   "source": [
    "x.shape,y.shape"
   ]
  },
  {
   "cell_type": "code",
   "execution_count": 13,
   "metadata": {},
   "outputs": [],
   "source": [
    "from sklearn.model_selection import train_test_split as tts\n",
    "train_x,test_x,train_y,test_y=tts(x,y,random_state=56,test_size=.30)"
   ]
  },
  {
   "cell_type": "code",
   "execution_count": 14,
   "metadata": {},
   "outputs": [
    {
     "data": {
      "text/plain": [
       "(89, 12)"
      ]
     },
     "execution_count": 14,
     "metadata": {},
     "output_type": "execute_result"
    }
   ],
   "source": [
    "\n",
    "from sklearn.preprocessing import StandardScaler\n",
    "scaler=StandardScaler()\n",
    "x=scaler.fit_transform(x)\n",
    "\n",
    "\n",
    "#train_x.shape\n",
    "#train_y.shape\n",
    "#test_x.shape\n",
    "#test_y.shape\n",
    "\n",
    "\n",
    "train_x.shape\n",
    "test_x.shape\n"
   ]
  },
  {
   "cell_type": "code",
   "execution_count": 15,
   "metadata": {},
   "outputs": [
    {
     "name": "stderr",
     "output_type": "stream",
     "text": [
      "C:\\Users\\Ajay\\Anaconda3\\lib\\site-packages\\sklearn\\linear_model\\logistic.py:432: FutureWarning: Default solver will be changed to 'lbfgs' in 0.22. Specify a solver to silence this warning.\n",
      "  FutureWarning)\n"
     ]
    },
    {
     "data": {
      "text/plain": [
       "0.8764044943820225"
      ]
     },
     "execution_count": 15,
     "metadata": {},
     "output_type": "execute_result"
    }
   ],
   "source": [
    "from sklearn.linear_model import LogisticRegression\n",
    "logreg=LogisticRegression()\n",
    "logreg.fit(train_x,train_y.ravel())\n",
    "\n",
    "logreg.score(train_x,train_y)\n",
    "\n",
    "Pred = logreg.predict(test_x)\n",
    "logreg.score(test_x,test_y)"
   ]
  },
  {
   "cell_type": "code",
   "execution_count": 16,
   "metadata": {},
   "outputs": [
    {
     "data": {
      "text/plain": [
       "0.8764044943820225"
      ]
     },
     "execution_count": 16,
     "metadata": {},
     "output_type": "execute_result"
    }
   ],
   "source": [
    "logreg.score(test_x,test_y)"
   ]
  },
  {
   "cell_type": "code",
   "execution_count": 17,
   "metadata": {
    "scrolled": true
   },
   "outputs": [
    {
     "name": "stderr",
     "output_type": "stream",
     "text": [
      "C:\\Users\\Ajay\\Anaconda3\\lib\\site-packages\\sklearn\\ensemble\\forest.py:245: FutureWarning: The default value of n_estimators will change from 10 in version 0.20 to 100 in 0.22.\n",
      "  \"10 in version 0.20 to 100 in 0.22.\", FutureWarning)\n",
      "C:\\Users\\Ajay\\Anaconda3\\lib\\site-packages\\ipykernel_launcher.py:4: DataConversionWarning: A column-vector y was passed when a 1d array was expected. Please change the shape of y to (n_samples,), for example using ravel().\n",
      "  after removing the cwd from sys.path.\n"
     ]
    },
    {
     "data": {
      "text/plain": [
       "RandomForestClassifier(bootstrap=True, class_weight=None, criterion='gini',\n",
       "                       max_depth=None, max_features='auto', max_leaf_nodes=None,\n",
       "                       min_impurity_decrease=0.0, min_impurity_split=None,\n",
       "                       min_samples_leaf=1, min_samples_split=2,\n",
       "                       min_weight_fraction_leaf=0.0, n_estimators=10,\n",
       "                       n_jobs=None, oob_score=False, random_state=None,\n",
       "                       verbose=0, warm_start=False)"
      ]
     },
     "execution_count": 17,
     "metadata": {},
     "output_type": "execute_result"
    }
   ],
   "source": [
    "from sklearn.ensemble import RandomForestClassifier \n",
    "rf=RandomForestClassifier()\n",
    "\n",
    "rf.fit(train_x,train_y)\n"
   ]
  },
  {
   "cell_type": "code",
   "execution_count": 18,
   "metadata": {},
   "outputs": [
    {
     "data": {
      "text/plain": [
       "(0.975609756097561, 0.8426966292134831)"
      ]
     },
     "execution_count": 18,
     "metadata": {},
     "output_type": "execute_result"
    }
   ],
   "source": [
    "rf.score(train_x,train_y),rf.score(test_x,test_y)"
   ]
  },
  {
   "cell_type": "code",
   "execution_count": null,
   "metadata": {},
   "outputs": [],
   "source": []
  }
 ],
 "metadata": {
  "kernelspec": {
   "display_name": "Python 3",
   "language": "python",
   "name": "python3"
  },
  "language_info": {
   "codemirror_mode": {
    "name": "ipython",
    "version": 3
   },
   "file_extension": ".py",
   "mimetype": "text/x-python",
   "name": "python",
   "nbconvert_exporter": "python",
   "pygments_lexer": "ipython3",
   "version": "3.7.4"
  }
 },
 "nbformat": 4,
 "nbformat_minor": 2
}
